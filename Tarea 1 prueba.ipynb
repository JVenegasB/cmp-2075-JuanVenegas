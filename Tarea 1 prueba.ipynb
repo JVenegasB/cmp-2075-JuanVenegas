{
 "cells": [
  {
   "cell_type": "markdown",
   "id": "9f2449f9",
   "metadata": {},
   "source": [
    "# Tarea 1"
   ]
  },
  {
   "cell_type": "markdown",
   "id": "415e13a0",
   "metadata": {},
   "source": [
    "## Pregunta 1"
   ]
  },
  {
   "cell_type": "markdown",
   "id": "7ab53e08",
   "metadata": {},
   "source": [
    "Assume we implemented an algorithm that has complexity approximately ${nlog(n)}$. How much faster is this implementation compared to one of complexity ${n^2}$?\n",
    "\n",
    "un algoritmo con complejidad ${nlog(n)}$va a tener un crecimiento loglineal, mientras que el algortmo con complejidadad \n"
   ]
  },
  {
   "cell_type": "markdown",
   "id": "dc0cecfe",
   "metadata": {},
   "source": []
  }
 ],
 "metadata": {
  "kernelspec": {
   "display_name": "Python 3 (ipykernel)",
   "language": "python",
   "name": "python3"
  },
  "language_info": {
   "codemirror_mode": {
    "name": "ipython",
    "version": 3
   },
   "file_extension": ".py",
   "mimetype": "text/x-python",
   "name": "python",
   "nbconvert_exporter": "python",
   "pygments_lexer": "ipython3",
   "version": "3.9.12"
  }
 },
 "nbformat": 4,
 "nbformat_minor": 5
}

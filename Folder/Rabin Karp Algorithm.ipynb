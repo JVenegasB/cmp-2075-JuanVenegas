{
 "cells": [
  {
   "cell_type": "markdown",
   "id": "90181265",
   "metadata": {},
   "source": [
    "# Run Time function"
   ]
  },
  {
   "cell_type": "code",
   "execution_count": 1,
   "id": "c8716eaa",
   "metadata": {},
   "outputs": [],
   "source": [
    "import time\n",
    "def timer_func(func):\n",
    "    # This function shows the execution time of\n",
    "    # the function object passed\n",
    "    def wrap_func(*args, **kwargs):\n",
    "        t1 = time.time()*10**12\n",
    "        result = func(*args, **kwargs)\n",
    "        t2 = time.time()*10**12\n",
    "        return result , t2-t1\n",
    "    return wrap_func"
   ]
  },
  {
   "cell_type": "markdown",
   "id": "37a3eccc",
   "metadata": {},
   "source": [
    "# Rabin Karp Algorithm (RK)"
   ]
  },
  {
   "cell_type": "markdown",
   "id": "384a3787",
   "metadata": {},
   "source": [
    "El algoritmo RK es un algoritmo de comparacion que consiste en recorrer la cadena de texto comparando el valor hash de una subcadena de texto especifica con el valor del hash de la cadena que se esta buscando (patron).\n",
    "\n",
    "Digamos que se tiene el siguiente texto:\n",
    "        $$ A\\ B\\  C\\  D\\  E\\  E\\  F\\  G\\  H\\  I $$\n",
    "y se quiere buscar $$E\\  F$$ en la cadena.\\\n",
    "El algoritmo consiste en crear un window del mismo tamaño de la cadena que quiere buscar, en este caso seria un window de 2.\\\n",
    "Se calcula el valor hash de el patron y de lo que se encuentre en la window, se compara el valor y en caso de que este sea diferente mueve a la window a la siguiente subcadena.\\\n",
    "Si se encuentra una situacion donde el valor hash de la subcadena en la window es igual al valor hash del patron, se compara caracter por caracter la subcadena con el patron. En caso de ser igual retorna la posicion donde se encontro\n",
    "$$ $$\n",
    "Se puede dar el caso en que el valor hash del contenido de la window sea igual al valor hash del patron, pero las palabras no coinciden. Este tipo de situaciones incrementan la complejidad del algoritmo\n",
    "Para reducir la ocurrencia de esto, se usa el modulo de un numero primo"
   ]
  },
  {
   "cell_type": "code",
   "execution_count": 2,
   "id": "4ff72038",
   "metadata": {},
   "outputs": [],
   "source": [
    "d = 256\n",
    "    \n",
    "def RKAlgorithm(palabra, txt):\n",
    "    M = len(palabra)\n",
    "    N = len(txt)\n",
    "    q = 101\n",
    "    hashPattern = 0\n",
    "    hashText = 0\n",
    "    h = 1\n",
    "    for i in range(M-1):\n",
    "        h = (h*d) % q\n",
    "\n",
    "    for i in range(M):#hash de palabra y primera window\n",
    "        hashPattern = (d*hashPattern + ord(palabra[i])) % q\n",
    "        hashText = (d*hashText + ord(txt[i])) % q\n",
    " \n",
    "    for i in range(N-M+1): #recorrer el texto\n",
    "        if hashPattern == hashText:#si tienen el mismo hash\n",
    "            for j in range(M):#comparacion caracter por caracter del substring en la window con la palabra\n",
    "                if txt[i+j] != palabra[j]:\n",
    "                    break\n",
    "                else:\n",
    "                    j += 1\n",
    "            if j == M:\n",
    "                print(\"Palabra en el indice \", i)\n",
    " \n",
    "        if i < N-M:#hash de la siguiente ventana\n",
    "            hashText = (d*(hashText-ord(txt[i])*h) + ord(txt[i+M])) % q"
   ]
  },
  {
   "cell_type": "markdown",
   "id": "aacb229f",
   "metadata": {},
   "source": [
    "Probar el algoritmo"
   ]
  }
 ],
 "metadata": {
  "kernelspec": {
   "display_name": "Python 3 (ipykernel)",
   "language": "python",
   "name": "python3"
  },
  "language_info": {
   "codemirror_mode": {
    "name": "ipython",
    "version": 3
   },
   "file_extension": ".py",
   "mimetype": "text/x-python",
   "name": "python",
   "nbconvert_exporter": "python",
   "pygments_lexer": "ipython3",
   "version": "3.9.12"
  }
 },
 "nbformat": 4,
 "nbformat_minor": 5
}

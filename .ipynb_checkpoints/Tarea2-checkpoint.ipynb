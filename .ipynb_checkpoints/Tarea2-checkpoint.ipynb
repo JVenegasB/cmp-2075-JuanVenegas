{
 "cells": [
  {
   "cell_type": "markdown",
   "id": "bb4ba861",
   "metadata": {},
   "source": [
    "# Tarea 1"
   ]
  },
  {
   "cell_type": "markdown",
   "id": "b2d78e78",
   "metadata": {},
   "source": [
    "## Pregunta 1"
   ]
  },
  {
   "cell_type": "markdown",
   "id": "adef0b08",
   "metadata": {},
   "source": [
    "**Implement the class Stacks and all its methods using singly linked lists. Analyze the runtime and memory complexity, and compare with what we studied in class**"
   ]
  },
  {
   "cell_type": "markdown",
   "id": "bfc0228b",
   "metadata": {},
   "source": [
    "**Clase Stack**\n"
   ]
  },
  {
   "cell_type": "code",
   "execution_count": null,
   "id": "ecce6b0d",
   "metadata": {},
   "outputs": [],
   "source": [
    "class Node:\n",
    "    def __init__(self,data):\n",
    "        self.dada = data\n",
    "        self.next = None\n",
    "        \n",
    "class Stack:\n",
    "    def __init__(self):\n",
    "        self.head = None\n",
    "        \n",
    "    def isEmpty(self): #revisar si hay headNode\n",
    "        if self.head == None:\n",
    "            return True\n",
    "        else:\n",
    "            return False\n",
    "    def push(self,data): #metodo Push\n",
    "        if self.head = None: #push si es el primer valor en el stack\n",
    "            self.head = Node(data)\n",
    "        else:#push si hay mas valores\n",
    "            newNode = Node(data)\n",
    "            newNode.next = self.head\n",
    "            self.head = newNode\n",
    "    def pop(self): #Metodo pop\n",
    "        if self.isEmpty(): #Si no hay nada, no hace nada\n",
    "            print(\"Stack vacio\")\n",
    "            return None\n",
    "        else:\n",
    "            nodepop = self.head\n",
    "            self.head = self.head.next\n",
    "            nodepop.next = None\n",
    "            return nodepop.data\n",
    "    def peek(self):\n",
    "        if self.isEmpty():\n",
    "            print(\"Stack vacio\")\n",
    "            return None\n",
    "        else:\n",
    "            return self.head.data\n",
    "    def"
   ]
  },
  {
   "cell_type": "markdown",
   "id": "a608a9ac",
   "metadata": {},
   "source": [
    "## Pregunta 2"
   ]
  },
  {
   "cell_type": "markdown",
   "id": "097b8d49",
   "metadata": {},
   "source": [
    "**Write a method part of the linked list class that will reverse the linked list. Your implementation should visit each node in the list only one time, and should use O(1) of extra memory.**\n",
    "\n",
    "For example, if the list is:\n",
    "\n",
    "A -> B -> C -> D -> null\n",
    "\n",
    "The method must return:\n",
    "\n",
    "D -> C -> B -> A -> null"
   ]
  },
  {
   "cell_type": "code",
   "execution_count": null,
   "id": "1333bdcd",
   "metadata": {},
   "outputs": [],
   "source": []
  },
  {
   "cell_type": "markdown",
   "id": "e8008f99",
   "metadata": {},
   "source": [
    "## Pregunta 3"
   ]
  },
  {
   "cell_type": "markdown",
   "id": "4d477827",
   "metadata": {},
   "source": [
    "**Implement the class Queue using stacks.**\n",
    "\n",
    "a. Analyze the runtime and memory complexity, and compare with what we implemented in class.\n",
    "\n",
    "b. Implement a few test cases that would allow you to measure the difference in runtime of the dequeue method. (Hint: what is the worst case, so that dequeue of the stack implementation is greater than the implementation we did in class?)"
   ]
  },
  {
   "cell_type": "code",
   "execution_count": null,
   "id": "633ee355",
   "metadata": {},
   "outputs": [],
   "source": []
  },
  {
   "cell_type": "markdown",
   "id": "44a227c1",
   "metadata": {},
   "source": [
    "## Pregunta 4"
   ]
  },
  {
   "cell_type": "markdown",
   "id": "68dd2037",
   "metadata": {},
   "source": [
    "**Complete the PriorityQueue class, so that when we call dequeue, the element with the highest priority will be returned. Analyze the complexity of runtime and memory of the enqueue and dequeue methods.**\n",
    "\n",
    "Hint: use insertion sort , or find the minimum for each dequeue\n",
    "\n",
    "### Unsorted\n",
    "Q = [(9,2), (1,5), (8,4)]\n",
    "\n",
    "### sorted - O(n^2)\n",
    "Q = [(1,5), (8,4), (9,2)]\n",
    "\n",
    "### insert((2,3)) - O(n^2)\n",
    "Q = [(1,5), (2,3), (8,4), (9,2)]"
   ]
  },
  {
   "cell_type": "code",
   "execution_count": null,
   "id": "edc511a3",
   "metadata": {},
   "outputs": [],
   "source": []
  },
  {
   "cell_type": "markdown",
   "id": "2666e695",
   "metadata": {},
   "source": [
    "## Pregunta 5"
   ]
  },
  {
   "cell_type": "markdown",
   "id": "14df127a",
   "metadata": {},
   "source": [
    "**A given linked-list (singly or doubly) represents an integer number. For example, 345 is represented by the singly-linked list 3 -> 4 ->5. Write a Python program that does the following:**\n",
    "1. Receives three integers A, B and C as inputs. Assume that the three number have the same number of digits.\n",
    "2. Transform the numbers to their corresponding linked lists\n",
    "3. Implement the sum of the three numbers. The result A + B + C must be stored in a linked list.\n",
    "4. Print the result by traversing the list.\n",
    "5. Run your program for numbers with 1 to 100 digits, and capture the runtime. Use these number to estimate the complexity of the runtime.\n",
    "    * Hint: write a small function that uses randint() to generate a number of a given number of digits\n",
    "6. Analitically estimate the runtime complexity and compare with the one obtained in (5)."
   ]
  },
  {
   "cell_type": "code",
   "execution_count": null,
   "id": "01797669",
   "metadata": {},
   "outputs": [],
   "source": [
    "3->4->5\n",
    "1->2->3\n",
    "5->6->7\n",
    "---------\n",
    "1->0->3->5"
   ]
  },
  {
   "cell_type": "code",
   "execution_count": 2,
   "id": "eeb009bb",
   "metadata": {},
   "outputs": [
    {
     "data": {
      "text/plain": [
       "50"
      ]
     },
     "execution_count": 2,
     "metadata": {},
     "output_type": "execute_result"
    }
   ],
   "source": [
    "import random\n",
    "len(str(random.randint(10**49, 10**50)))"
   ]
  },
  {
   "cell_type": "code",
   "execution_count": null,
   "id": "2cccd307",
   "metadata": {},
   "outputs": [],
   "source": []
  }
 ],
 "metadata": {
  "kernelspec": {
   "display_name": "Python 3 (ipykernel)",
   "language": "python",
   "name": "python3"
  },
  "language_info": {
   "codemirror_mode": {
    "name": "ipython",
    "version": 3
   },
   "file_extension": ".py",
   "mimetype": "text/x-python",
   "name": "python",
   "nbconvert_exporter": "python",
   "pygments_lexer": "ipython3",
   "version": "3.9.12"
  }
 },
 "nbformat": 4,
 "nbformat_minor": 5
}

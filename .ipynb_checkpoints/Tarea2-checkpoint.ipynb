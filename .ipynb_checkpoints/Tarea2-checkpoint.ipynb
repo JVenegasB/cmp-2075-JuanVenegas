{
 "cells": [
  {
   "cell_type": "markdown",
   "id": "bb4ba861",
   "metadata": {},
   "source": [
    "# Tarea 1"
   ]
  },
  {
   "cell_type": "markdown",
   "id": "b2d78e78",
   "metadata": {},
   "source": [
    "## Pregunta 1"
   ]
  },
  {
   "cell_type": "markdown",
   "id": "adef0b08",
   "metadata": {},
   "source": [
    "**Implement the class Stacks and all its methods using singly linked lists. Analyze the runtime and memory complexity, and compare with what we studied in class**"
   ]
  },
  {
   "cell_type": "markdown",
   "id": "bfc0228b",
   "metadata": {},
   "source": [
    "**Clase Stack**\n",
    "\n",
    "Funciones push, pop, top, empty y size"
   ]
  },
  {
   "cell_type": "code",
   "execution_count": 2,
   "id": "ecce6b0d",
   "metadata": {},
   "outputs": [],
   "source": [
    "class Node:\n",
    "    def __init__(self,data):\n",
    "        self.data = data\n",
    "        self.next = None\n",
    "        \n",
    "class Stack:\n",
    "    def __init__(self):\n",
    "        self.head = None\n",
    "        \n",
    "    def push(self,data): #metodo Push\n",
    "        if self.head == None: #push si es el primer valor en el stack\n",
    "            self.head = Node(data)\n",
    "        else: #push si hay mas valores\n",
    "            newNode = Node(data)\n",
    "            newNode.next = self.head\n",
    "            self.head = newNode\n",
    "           \n",
    "    def pop(self): #Metodo pop\n",
    "        if self.empty(): #Si no hay nada, no hace nada\n",
    "            print(\"Stack vacio\")\n",
    "            return None\n",
    "        else:\n",
    "            nodepop = self.head\n",
    "            self.head = self.head.next\n",
    "            nodepop.next = None\n",
    "            return nodepop.data\n",
    "    def top(self):\n",
    "         if self.empty():\n",
    "            print(\"Stack vacio\")\n",
    "            return None\n",
    "        else:\n",
    "             return self.head.data\n",
    "    \n",
    "        \n",
    "    def empty(self): #revisar si hay headNode\n",
    "        if self.head == None:\n",
    "            return True\n",
    "        else:\n",
    "            return False\n",
    "        \n",
    "    def size(self):\n",
    "        if self.empty():\n",
    "            return 0\n",
    "        else:\n",
    "            nodoactual = self.head\n",
    "            contador = 0\n",
    "            while(nodoactual != None):\n",
    "                contador = contador + 1\n",
    "                nodoactual = nodoactual.next\n",
    "            return contador"
   ]
  },
  {
   "cell_type": "markdown",
   "id": "819dcfaa",
   "metadata": {},
   "source": [
    "Funciones para probar clase Stack"
   ]
  },
  {
   "cell_type": "code",
   "execution_count": 3,
   "id": "a0c8c2a8",
   "metadata": {},
   "outputs": [
    {
     "name": "stdout",
     "output_type": "stream",
     "text": [
      "567\n",
      "567\n",
      "44\n",
      "False\n",
      "4\n",
      "3\n"
     ]
    }
   ],
   "source": [
    "if __name__==\"__main__\":\n",
    "    test = Stack()\n",
    "    test.push(10)\n",
    "    test.push(2)\n",
    "    test.push(32)\n",
    "    test.push(44)\n",
    "    test.push(567)\n",
    "    print(test.top())\n",
    "    print(test.pop())\n",
    "    print(test.top())\n",
    "    print(test.empty())\n",
    "    print(test.size())\n",
    "    test.pop()\n",
    "    print(test.size())"
   ]
  },
  {
   "cell_type": "markdown",
   "id": "08ce126e",
   "metadata": {},
   "source": [
    "**RunTime**\n",
    "\n",
    "La funcion push, pop, top y empty tienen un runtime O(1), mientras que la funcion size tiene un runtime O(N), donde el tiempo depende de la cantidad de elementos que tiene el Stack\n",
    "\n",
    "**Memoria**\n",
    "\n",
    "La memoria depende de la funcion push y pop, donde push crea un nodo, el cual va a apuntar a Null y el anterior va a apuntar a este nuevo nodo. La funcion size crea un contador, el cual crece dependiendo de la cantidad de elementos en el Stack. Estas funciones ocuparan O(N) en memoria. \n",
    "\n",
    "**Comparacion con clase**\n",
    "\n",
    "En la implementacion realizada en clase, se tiene un runtime O(1) para todas las funciones, en cambio en la implementacion usada en este deber se tiene un runtime de O(N) en la funcion size, ya que toca contar cuantos nodos hay recorriendo el Stack "
   ]
  },
  {
   "cell_type": "markdown",
   "id": "a608a9ac",
   "metadata": {},
   "source": [
    "## Pregunta 2"
   ]
  },
  {
   "cell_type": "markdown",
   "id": "097b8d49",
   "metadata": {},
   "source": [
    "**Write a method part of the linked list class that will reverse the linked list. Your implementation should visit each node in the list only one time, and should use O(1) of extra memory.**\n",
    "\n",
    "For example, if the list is:\n",
    "\n",
    "A -> B -> C -> D -> null\n",
    "\n",
    "The method must return:\n",
    "\n",
    "D -> C -> B -> A -> null"
   ]
  },
  {
   "cell_type": "markdown",
   "id": "cbfefd94",
   "metadata": {},
   "source": [
    "Clase LinkedList hecha en clase"
   ]
  },
  {
   "cell_type": "code",
   "execution_count": 14,
   "id": "3c417cab",
   "metadata": {},
   "outputs": [],
   "source": [
    "class Node:\n",
    "    \"\"\"\n",
    "    Implementation of a node\n",
    "    \"\"\"\n",
    "    def __init__(self, val=None):\n",
    "        self.val = val\n",
    "        self.next_node = None\n",
    "    \n",
    "    def set_next_node(self, next_node):\n",
    "        self.next_node = next_node\n",
    "        \n",
    "class Singly_linked_list:\n",
    "    \"\"\"\n",
    "    Implementation of a singly linked list\n",
    "    \"\"\"\n",
    "    def __init__(self, head_node=None):\n",
    "        self.head_node = head_node\n",
    "    def list_traversed(self):\n",
    "        node = self.head_node\n",
    "        while node:\n",
    "            print(node.val)\n",
    "            node = node.next_node"
   ]
  },
  {
   "cell_type": "markdown",
   "id": "6feedeaa",
   "metadata": {},
   "source": [
    "metodo reverse"
   ]
  },
  {
   "cell_type": "code",
   "execution_count": 21,
   "id": "b1a6c837",
   "metadata": {},
   "outputs": [],
   "source": [
    "class Singly_linked_list(Singly_linked_list): \n",
    "    def reverse(self):\n",
    "            print(\"\\nnueva linkedList: \\n\")\n",
    "            prev = None\n",
    "            nodo = self.head_node\n",
    "            while(nodo != None):\n",
    "                next_node = nodo.next_node\n",
    "                nodo.next_node = prev\n",
    "                prev = nodo\n",
    "                nodo = next_node\n",
    "            self.head_node = prev"
   ]
  },
  {
   "cell_type": "markdown",
   "id": "6c73fb18",
   "metadata": {},
   "source": [
    "Probar metodo reverse"
   ]
  },
  {
   "cell_type": "code",
   "execution_count": 22,
   "id": "05b17b60",
   "metadata": {},
   "outputs": [
    {
     "name": "stdout",
     "output_type": "stream",
     "text": [
      "A\n",
      "B\n",
      "C\n",
      "D\n",
      "\n",
      "nueva linkedList: \n",
      "\n",
      "D\n",
      "C\n",
      "B\n",
      "A\n"
     ]
    }
   ],
   "source": [
    "m1 = Node(\"A\")\n",
    "m2 = Node(\"B\")\n",
    "m3 = Node(\"C\")\n",
    "m4 = Node(\"D\")\n",
    "\n",
    "m1.set_next_node(m2)\n",
    "m2.set_next_node(m3)\n",
    "m3.set_next_node(m4)\n",
    "\n",
    "list1 = Singly_linked_list(m1)\n",
    "\n",
    "list1.list_traversed()\n",
    "list1.reverse()\n",
    "list1.list_traversed()"
   ]
  },
  {
   "cell_type": "markdown",
   "id": "e8008f99",
   "metadata": {},
   "source": [
    "## Pregunta 3"
   ]
  },
  {
   "cell_type": "markdown",
   "id": "4d477827",
   "metadata": {},
   "source": [
    "**Implement the class Queue using stacks.**\n",
    "\n",
    "a. Analyze the runtime and memory complexity, and compare with what we implemented in class.\n",
    "\n",
    "b. Implement a few test cases that would allow you to measure the difference in runtime of the dequeue method. (Hint: what is the worst case, so that dequeue of the stack implementation is greater than the implementation we did in class?)"
   ]
  },
  {
   "cell_type": "markdown",
   "id": "96640132",
   "metadata": {},
   "source": [
    "**Implementacion de Queue**"
   ]
  },
  {
   "cell_type": "code",
   "execution_count": 23,
   "id": "30cb22c5",
   "metadata": {},
   "outputs": [],
   "source": [
    "class Queue:\n",
    "    def __init__(self): #se usan 2 stacks\n",
    "        self.s1 = []\n",
    "        self.s2 = []\n",
    "    def enqueue(self, valor):\n",
    "        if(len(self.s2)>0): #si s2 ya tiene elementos, se pasa s2 a s1 y se agrega el nuevo elemento\n",
    "            elemento = None\n",
    "            while(len(self.s1)):\n",
    "                elemento = self.s2.pop()\n",
    "                self.s1.append(elemento)\n",
    "        self.s1.append(valor)\n",
    "        \n",
    "    def deQueue(self):\n",
    "        if self.empty():\n",
    "            print(\"Queue vacia, ingrese datos\")\n",
    "            return None\n",
    "        elif len(self.s1)>0: #primer deQueue que se hace\n",
    "            elemento = None\n",
    "            while(len(self.s1)):\n",
    "                elemento = self.s1.pop()\n",
    "                self.s2.append(elemento)  \n",
    "            return self.s2.pop()\n",
    "        else: #Si ya se hizo algun dequeue\n",
    "            return self.s2.pop()\n",
    "        \n",
    "    def first(self):#primer valor\n",
    "        if self.empty(): #Queue vacio\n",
    "            return \"Queue vacio\"\n",
    "        elif(len(self.s2)==0):#aun no se corre deQueue\n",
    "            elemento = None\n",
    "            while(len(self.s1)):\n",
    "                elemento = self.s1.pop()\n",
    "                self.s2.append(elemento)  \n",
    "            return self.s2[-1]\n",
    "        elif(len(self.s1)<=0 and len(self.s2)!=0):#ya se corrio deQueue aunquesea una vez   \n",
    "            return self.s2[-1]\n",
    "    def empty(self):\n",
    "        if(len(self.s1) == 0 and len(self.s2) == 0):\n",
    "            return True\n",
    "        return False\n",
    "    def size(self):\n",
    "        if(self.empty()):\n",
    "            return \"Queue vacio\"\n",
    "        elif(len(self.s1) == 0):\n",
    "            return len(self.s2)\n",
    "        else:\n",
    "            return len(self.s1)"
   ]
  },
  {
   "cell_type": "markdown",
   "id": "2fa82e97",
   "metadata": {},
   "source": [
    "Probar clase Queue  y sus metodos"
   ]
  },
  {
   "cell_type": "code",
   "execution_count": 24,
   "id": "43e85d6c",
   "metadata": {},
   "outputs": [
    {
     "name": "stdout",
     "output_type": "stream",
     "text": [
      "Queue vacio\n",
      "True\n",
      "Queue vacio\n",
      "vacio?? False\n",
      "TAMANIO ES 2\n",
      "TAMANIO ES 3\n",
      "vacio?? False\n",
      "Primer valor 1\n",
      "TAMANIO ES 3\n",
      "1\n",
      "Primer valor2 2\n",
      "2\n",
      "TAMANIO ES 1\n",
      "Primer valor3 3\n",
      "vacio?? False\n",
      "3\n",
      "Primer valorn Queue vacio\n",
      "vacio?? True\n",
      "TAMANIO ES Queue vacio\n"
     ]
    }
   ],
   "source": [
    "q = Queue()\n",
    "print(q.size())\n",
    "print(q.empty())\n",
    "print(q.first())\n",
    "\n",
    "q.enqueue(1)\n",
    "print(\"vacio??\",q.empty())\n",
    "q.enqueue(2)\n",
    "print(\"TAMANIO ES\",q.size())\n",
    "q.enqueue(3)\n",
    "print(\"TAMANIO ES\",q.size())\n",
    "print(\"vacio??\",q.empty())\n",
    "print(\"Primer valor\",q.first())\n",
    "print(\"TAMANIO ES\",q.size())\n",
    "\n",
    "print(q.deQueue())\n",
    "print(\"Primer valor2\",q.first())\n",
    "\n",
    "print(q.deQueue())\n",
    "print(\"TAMANIO ES\",q.size())\n",
    "print(\"Primer valor3\",q.first())\n",
    "print(\"vacio??\",q.empty())\n",
    "\n",
    "print(q.deQueue())\n",
    "\n",
    "print(\"Primer valorn\",q.first())\n",
    "print(\"vacio??\",q.empty())\n",
    "print(\"TAMANIO ES\",q.size())"
   ]
  },
  {
   "cell_type": "markdown",
   "id": "05784c91",
   "metadata": {},
   "source": [
    "a. Analyze the runtime and memory complexity, and compare with what we implemented in class.\n",
    "\n",
    "* Funcion enqueue: O(1)\n",
    "* Funcion deQueue: En el peor caso, todo el stack 1 pasa al stack 2, dando un runtime O(N), una vez se corre esta funcion, al llamar de nuevo a la funcion deQueue va a tener un runtime O(1)\n",
    "* Funcion first: tiene un caso similar pero dependiente de dequeue. Si ya se corrio dequeue o el queue se encuentra vacio, tendra tiempo O(1), pero si aun no se corre deQueue, tendra tiempo O(N).\n",
    "\n",
    "En la mayoria de casos, la funcion dequeue y first tendran O(1), ya que con que uno se ejecute una vez(tendiendo O(N)), el resto tendran O(1)\n",
    "* Funcion Empty: O(1)\n",
    "* Funcion size: O(1)\n",
    "\n",
    "Memoria: Se usa O(N) como stacks para almacenar los valores\n",
    "\n",
    "**Comparacion con implementacion en clase**\n",
    "\n",
    "El runtime para enqueue y dequeue de  la implementacion en clase y la implementacion de la tarea es igual (en la implementacion se usa el indice, en la tarea se usa pop), la diferencia principal se encuentra en la funcion first. First en la implementacion hecha en clase usa el indice [0] de la lista para encontrar el primer valor, pero en la tarea se invierte la lista en otra lista para tomar el primer valor. La funcion empty es igual en los dos casos, y la funcion  size tiene la misma complejidad (O(1)), pero se implementa de diferente manera. En la tarea se valida si esta vacio o cual lista tiene los datos que se buscan."
   ]
  },
  {
   "cell_type": "markdown",
   "id": "44a227c1",
   "metadata": {},
   "source": [
    "## Pregunta 4"
   ]
  },
  {
   "cell_type": "markdown",
   "id": "68dd2037",
   "metadata": {},
   "source": [
    "**Complete the PriorityQueue class, so that when we call dequeue, the element with the highest priority will be returned. Analyze the complexity of runtime and memory of the enqueue and dequeue methods.**\n",
    "\n",
    "Hint: use insertion sort , or find the minimum for each dequeue\n",
    "\n",
    "### Unsorted\n",
    "Q = [(9,2), (1,5), (8,4)]\n",
    "\n",
    "### sorted - O(n^2)\n",
    "Q = [(1,5), (8,4), (9,2)]\n",
    "\n",
    "### insert((2,3)) - O(n^2)\n",
    "Q = [(1,5), (2,3), (8,4), (9,2)]"
   ]
  },
  {
   "cell_type": "code",
   "execution_count": null,
   "id": "edc511a3",
   "metadata": {},
   "outputs": [],
   "source": []
  },
  {
   "cell_type": "markdown",
   "id": "2666e695",
   "metadata": {},
   "source": [
    "## Pregunta 5"
   ]
  },
  {
   "cell_type": "markdown",
   "id": "14df127a",
   "metadata": {},
   "source": [
    "**A given linked-list (singly or doubly) represents an integer number. For example, 345 is represented by the singly-linked list 3 -> 4 ->5. Write a Python program that does the following:**\n",
    "1. Receives three integers A, B and C as inputs. Assume that the three number have the same number of digits.\n",
    "2. Transform the numbers to their corresponding linked lists\n",
    "3. Implement the sum of the three numbers. The result A + B + C must be stored in a linked list.\n",
    "4. Print the result by traversing the list.\n",
    "5. Run your program for numbers with 1 to 100 digits, and capture the runtime. Use these number to estimate the complexity of the runtime.\n",
    "    * Hint: write a small function that uses randint() to generate a number of a given number of digits\n",
    "6. Analitically estimate the runtime complexity and compare with the one obtained in (5)."
   ]
  },
  {
   "cell_type": "code",
   "execution_count": null,
   "id": "01797669",
   "metadata": {},
   "outputs": [],
   "source": [
    "3->4->5\n",
    "1->2->3\n",
    "5->6->7\n",
    "---------\n",
    "1->0->3->5"
   ]
  },
  {
   "cell_type": "code",
   "execution_count": 2,
   "id": "eeb009bb",
   "metadata": {},
   "outputs": [
    {
     "data": {
      "text/plain": [
       "50"
      ]
     },
     "execution_count": 2,
     "metadata": {},
     "output_type": "execute_result"
    }
   ],
   "source": [
    "import random\n",
    "len(str(random.randint(10**49, 10**50)))"
   ]
  },
  {
   "cell_type": "code",
   "execution_count": null,
   "id": "2cccd307",
   "metadata": {},
   "outputs": [],
   "source": []
  }
 ],
 "metadata": {
  "kernelspec": {
   "display_name": "Python 3 (ipykernel)",
   "language": "python",
   "name": "python3"
  },
  "language_info": {
   "codemirror_mode": {
    "name": "ipython",
    "version": 3
   },
   "file_extension": ".py",
   "mimetype": "text/x-python",
   "name": "python",
   "nbconvert_exporter": "python",
   "pygments_lexer": "ipython3",
   "version": "3.9.12"
  }
 },
 "nbformat": 4,
 "nbformat_minor": 5
}

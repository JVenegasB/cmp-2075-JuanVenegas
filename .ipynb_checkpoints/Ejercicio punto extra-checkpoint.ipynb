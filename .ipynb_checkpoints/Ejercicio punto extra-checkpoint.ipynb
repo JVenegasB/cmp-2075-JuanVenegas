{
 "cells": [
  {
   "cell_type": "markdown",
   "id": "e2c4a07b",
   "metadata": {},
   "source": [
    "Fibonacci con lista"
   ]
  },
  {
   "cell_type": "code",
   "execution_count": 5,
   "id": "141bbe73",
   "metadata": {},
   "outputs": [
    {
     "name": "stdout",
     "output_type": "stream",
     "text": [
      "99194853094755497\n"
     ]
    }
   ],
   "source": [
    "listafib = [0, 1]\n",
    "def fib(n):\n",
    "    for i in range(2,n+1):\n",
    "        listafib.append(listafib[i-1] + listafib[i-2])\n",
    "    return listafib[n]\n",
    "print(fib(83))"
   ]
  },
  {
   "cell_type": "markdown",
   "id": "29531e92",
   "metadata": {},
   "source": [
    "Complejidad O(n) "
   ]
  }
 ],
 "metadata": {
  "kernelspec": {
   "display_name": "Python 3 (ipykernel)",
   "language": "python",
   "name": "python3"
  },
  "language_info": {
   "codemirror_mode": {
    "name": "ipython",
    "version": 3
   },
   "file_extension": ".py",
   "mimetype": "text/x-python",
   "name": "python",
   "nbconvert_exporter": "python",
   "pygments_lexer": "ipython3",
   "version": "3.9.12"
  }
 },
 "nbformat": 4,
 "nbformat_minor": 5
}

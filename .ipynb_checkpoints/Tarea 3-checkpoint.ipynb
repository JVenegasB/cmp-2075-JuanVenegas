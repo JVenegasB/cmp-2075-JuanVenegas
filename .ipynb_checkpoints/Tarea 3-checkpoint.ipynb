{
 "cells": [
  {
   "cell_type": "markdown",
   "id": "01a4045c",
   "metadata": {},
   "source": [
    "# Tarea 3"
   ]
  },
  {
   "cell_type": "markdown",
   "id": "49abad0a",
   "metadata": {},
   "source": [
    "## Pregunta 1"
   ]
  },
  {
   "cell_type": "markdown",
   "id": "bb195bd3",
   "metadata": {},
   "source": [
    "**Merge two sorted lists**"
   ]
  },
  {
   "cell_type": "markdown",
   "id": "eeeb2684",
   "metadata": {},
   "source": [
    "1. Assume you have two sorted linked lists. Use recursion to merge these lists and return a new sorted list.\n",
    "For example:\n",
    "```\n",
    "L1 = 1 -> 3 -> 5 -> 7 -> null\n",
    "L2 = 2 -> 4 -> 6 -> null\n",
    "```\n",
    "Output\n",
    "```\n",
    "L4 = 1 -> 2 -> 3-> 4 -> 5 -> 6 -> 7 -> null\n",
    "```\n",
    "2. Calculate complexity"
   ]
  },
  {
   "cell_type": "code",
   "execution_count": null,
   "id": "06b025c2",
   "metadata": {},
   "outputs": [],
   "source": []
  },
  {
   "cell_type": "markdown",
   "id": "8087674f",
   "metadata": {},
   "source": [
    "## Pregunta 2"
   ]
  },
  {
   "cell_type": "markdown",
   "id": "1408508e",
   "metadata": {},
   "source": [
    "**Implement quick sort**"
   ]
  },
  {
   "cell_type": "markdown",
   "id": "9713c902",
   "metadata": {},
   "source": [
    "1. Use the divide and conquer technique to implement the quick sort algorithm studied in class.\n",
    "2. Use a couple of parragraphs to explain the steps of divide and conquer:\n",
    "    * how/where do you divide?\n",
    "    * where/what do you conquer?\n",
    "    * how/what do you combine?\n",
    "3. Analyze complexity"
   ]
  },
  {
   "cell_type": "code",
   "execution_count": null,
   "id": "6b3e5728",
   "metadata": {},
   "outputs": [],
   "source": []
  },
  {
   "cell_type": "markdown",
   "id": "b191871c",
   "metadata": {},
   "source": [
    "## Pregunta 3"
   ]
  },
  {
   "cell_type": "markdown",
   "id": "7aca0ece",
   "metadata": {},
   "source": [
    "**Compare quick sort and merge sort**"
   ]
  },
  {
   "cell_type": "markdown",
   "id": "958bedd6",
   "metadata": {},
   "source": [
    "1. Generate 1000 random permutations of arrays of integers between 1 to 10000.\n",
    "2. Execute merge sort and quick sort for each of the permutations\n",
    "3. Calculate the execution time of these runs, and compare them using the statistics of the measured executed time.\n",
    "4. Explain the differences. Which algorithm is better? When would you use each?"
   ]
  },
  {
   "cell_type": "code",
   "execution_count": null,
   "id": "5625cd17",
   "metadata": {},
   "outputs": [],
   "source": []
  },
  {
   "cell_type": "markdown",
   "id": "609c364e",
   "metadata": {},
   "source": [
    "## Pregunta 4"
   ]
  },
  {
   "cell_type": "markdown",
   "id": "31784c40",
   "metadata": {},
   "source": [
    "**Implement factorials with recursion**"
   ]
  },
  {
   "cell_type": "markdown",
   "id": "24321e88",
   "metadata": {},
   "source": [
    "Recall that a factorial number is defined as:\\\n",
    "$k!= k x (k-1) x (k-2) x ... x 2 x 1$\\\n",
    "For example: $3! = 3 x 2 x 1 = 6$\n",
    "1. Use recursion to implement the factorial\n",
    "2. Run your code for numbers between 1 and 10000\n",
    "3. Calculate the execution time and plot it.\n",
    "4. What's the complexity?\n",
    "5. Implement memoization to improve the performance of your code\n",
    "6. Measure the runtime when you calculate the factorial for numbers between 1 and 10000.\n",
    "7. What's the complexity of your code using memoization?\n",
    "8. How does the first implementation and the one with memoization compare?"
   ]
  },
  {
   "cell_type": "code",
   "execution_count": null,
   "id": "e3c309b4",
   "metadata": {},
   "outputs": [],
   "source": []
  }
 ],
 "metadata": {
  "kernelspec": {
   "display_name": "Python 3 (ipykernel)",
   "language": "python",
   "name": "python3"
  },
  "language_info": {
   "codemirror_mode": {
    "name": "ipython",
    "version": 3
   },
   "file_extension": ".py",
   "mimetype": "text/x-python",
   "name": "python",
   "nbconvert_exporter": "python",
   "pygments_lexer": "ipython3",
   "version": "3.9.12"
  }
 },
 "nbformat": 4,
 "nbformat_minor": 5
}
